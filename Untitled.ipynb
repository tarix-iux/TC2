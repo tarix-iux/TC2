{
 "cells": [
  {
   "cell_type": "markdown",
   "id": "96f394d0-085c-482f-b950-bc2740551977",
   "metadata": {},
   "source": [
    "# Tarea Semanal 1"
   ]
  },
  {
   "cell_type": "markdown",
   "id": "9cb6e37b-8c1d-4cae-bc53-db05b8ed476d",
   "metadata": {},
   "source": [
    "![PASS BAND](images/BPF.png)"
   ]
  },
  {
   "cell_type": "markdown",
   "id": "554c2863-12ce-4372-bcf2-924dbf5c578a",
   "metadata": {},
   "source": [
    "#### 1. Analizar la impedancia de entrada desde el nodo Vx. Hallar los valores de R4,R5,Y1,Y2 e Y3 de tal manera que responda como un Inductor de valor unitario. "
   ]
  },
  {
   "cell_type": "markdown",
   "id": "3ae06974-5c7f-40ff-b4c9-3ffbba1f3c91",
   "metadata": {},
   "source": [
    "![UNO](images/TS1_1.PNG)"
   ]
  },
  {
   "cell_type": "markdown",
   "id": "45cd77c6-7ea3-44dd-963b-2c6268e8ee98",
   "metadata": {},
   "source": [
    "#### 2. Obtener la función transferencia V2V1. Desnormalice convenientemente en frecuencia e impedancia para garantizar una f0 = 10kHz  y Q = 20 utilizando Capacitores entre 1 nF y 100 nF. Para los resistores no hay restricciones. "
   ]
  },
  {
   "cell_type": "code",
   "execution_count": null,
   "id": "db465f4b-e44a-4695-a0ce-45476848c4f4",
   "metadata": {},
   "outputs": [],
   "source": []
  }
 ],
 "metadata": {
  "kernelspec": {
   "display_name": "Python 3 (ipykernel)",
   "language": "python",
   "name": "python3"
  },
  "language_info": {
   "codemirror_mode": {
    "name": "ipython",
    "version": 3
   },
   "file_extension": ".py",
   "mimetype": "text/x-python",
   "name": "python",
   "nbconvert_exporter": "python",
   "pygments_lexer": "ipython3",
   "version": "3.12.3"
  }
 },
 "nbformat": 4,
 "nbformat_minor": 5
}
